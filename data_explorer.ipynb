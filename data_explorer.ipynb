{
 "cells": [
  {
   "cell_type": "markdown",
   "id": "e331a7fb",
   "metadata": {},
   "source": [
    "# ideas\n",
    "- word count per doc\n",
    "- word repetition\n",
    "- phrase repition\n",
    "- sentiment\n",
    "- rhyme\n",
    "- modeling of certain topics (eg love)"
   ]
  },
  {
   "cell_type": "code",
   "execution_count": 54,
   "id": "9f668466",
   "metadata": {},
   "outputs": [],
   "source": [
    "import pandas as pd\n",
    "import numpy as np"
   ]
  },
  {
   "cell_type": "code",
   "execution_count": 29,
   "id": "568cb7fe",
   "metadata": {},
   "outputs": [
    {
     "data": {
      "text/html": [
       "<div>\n",
       "<style scoped>\n",
       "    .dataframe tbody tr th:only-of-type {\n",
       "        vertical-align: middle;\n",
       "    }\n",
       "\n",
       "    .dataframe tbody tr th {\n",
       "        vertical-align: top;\n",
       "    }\n",
       "\n",
       "    .dataframe thead th {\n",
       "        text-align: right;\n",
       "    }\n",
       "</style>\n",
       "<table border=\"1\" class=\"dataframe\">\n",
       "  <thead>\n",
       "    <tr style=\"text-align: right;\">\n",
       "      <th></th>\n",
       "      <th>ALink</th>\n",
       "      <th>SName</th>\n",
       "      <th>SLink</th>\n",
       "      <th>Lyric</th>\n",
       "      <th>language</th>\n",
       "      <th>Artist</th>\n",
       "      <th>Genres</th>\n",
       "      <th>Songs</th>\n",
       "      <th>Popularity</th>\n",
       "      <th>genre</th>\n",
       "    </tr>\n",
       "  </thead>\n",
       "  <tbody>\n",
       "    <tr>\n",
       "      <th>0</th>\n",
       "      <td>/ivete-sangalo/</td>\n",
       "      <td>Careless Whisper</td>\n",
       "      <td>/ivete-sangalo/careless-whisper.html</td>\n",
       "      <td>I feel so unsure\\nAs I take your hand and lead...</td>\n",
       "      <td>en</td>\n",
       "      <td>Ivete Sangalo</td>\n",
       "      <td>Pop; Axé; Romântico</td>\n",
       "      <td>313.0</td>\n",
       "      <td>4.4</td>\n",
       "      <td>Romântico</td>\n",
       "    </tr>\n",
       "  </tbody>\n",
       "</table>\n",
       "</div>"
      ],
      "text/plain": [
       "             ALink             SName                                 SLink  \\\n",
       "0  /ivete-sangalo/  Careless Whisper  /ivete-sangalo/careless-whisper.html   \n",
       "\n",
       "                                               Lyric language         Artist  \\\n",
       "0  I feel so unsure\\nAs I take your hand and lead...       en  Ivete Sangalo   \n",
       "\n",
       "                Genres  Songs  Popularity      genre  \n",
       "0  Pop; Axé; Romântico  313.0         4.4  Romântico  "
      ]
     },
     "execution_count": 29,
     "metadata": {},
     "output_type": "execute_result"
    }
   ],
   "source": [
    "df_genre = pd.read_csv(\"data/selected_genres.csv\")\n",
    "df_genre.head(1)"
   ]
  },
  {
   "cell_type": "markdown",
   "id": "236de15d",
   "metadata": {},
   "source": [
    "### Generate dataframe for each selected genre"
   ]
  },
  {
   "cell_type": "code",
   "execution_count": 44,
   "id": "f69f5b54",
   "metadata": {},
   "outputs": [],
   "source": [
    "# replace name of Romantico to avoid future problems\n",
    "# Must be adjusted if there are any other special symbols, \n",
    "# a general processing function is likely not neccessary\n",
    "df_all_genres[\"genre\"] = df_genre.genre.str.replace(\"Romântico\",\"Romantico\")"
   ]
  },
  {
   "cell_type": "code",
   "execution_count": 32,
   "id": "b6350017",
   "metadata": {},
   "outputs": [],
   "source": [
    "genre_dict = {}\n",
    "for genre in df_all_genres.genre.unique():\n",
    "    genre_dict[genre] = df_all_genres.loc[df_all_genres.genre==genre]"
   ]
  },
  {
   "cell_type": "code",
   "execution_count": 33,
   "id": "90e73d01",
   "metadata": {},
   "outputs": [
    {
     "name": "stdout",
     "output_type": "stream",
     "text": [
      "Analysing the following genres:['Romantico' 'Rap' 'Gospel/Religioso' 'Country' 'Heavy Metal' 'Hardcore']\n"
     ]
    }
   ],
   "source": [
    "print(f\"Analysing the following genres:{df_all_genres.genre.unique()}\")"
   ]
  },
  {
   "cell_type": "markdown",
   "id": "d21d5415",
   "metadata": {},
   "source": [
    "# Preprocess text\n",
    "Some basic preprocessing\n",
    "TODO: expand this to remove more punctation and process phrases\n",
    "(e.g. I'm..) right now there are still some symbols left and counted as tokens..."
   ]
  },
  {
   "cell_type": "code",
   "execution_count": 34,
   "id": "0962202b",
   "metadata": {},
   "outputs": [],
   "source": [
    "import nltk,string\n",
    "from nltk.stem import WordNetLemmatizer\n",
    "from nltk.tokenize import TweetTokenizer\n",
    "\n",
    "def process_lyrics(df):\n",
    "    tknzr = TweetTokenizer()\n",
    "    lemmatizer = WordNetLemmatizer()\n",
    "    stop_words =nltk.corpus.stopwords.words('english')\n",
    "    punctuation = list(string.punctuation)\n",
    "    remove = set(stop_words + punctuation)\n",
    "    lyrics_tokenized = list(df.Lyric.apply(lambda x: [lemmatizer.lemmatize(i) for i in tknzr.tokenize(x.lower()) if i not in remove]))\n",
    "    return lyrics_tokenized\n",
    "\n"
   ]
  },
  {
   "cell_type": "code",
   "execution_count": 43,
   "id": "8283c970",
   "metadata": {},
   "outputs": [
    {
     "name": "stdout",
     "output_type": "stream",
     "text": [
      "Processing Romantico\n",
      "Processing Rap\n",
      "Processing Gospel/Religioso\n",
      "Processing Country\n",
      "Processing Heavy Metal\n",
      "Processing Hardcore\n"
     ]
    }
   ],
   "source": [
    "processed_lyrics = {}\n",
    "\n",
    "for genre in genre_dict:   \n",
    "    df_genre = genre_dict[genre]\n",
    "    print(f\"Processing {genre}\")\n",
    "    pl = process_lyrics(df_genre)\n",
    "    processed_lyrics[genre] = pl"
   ]
  },
  {
   "cell_type": "markdown",
   "id": "0cbdf222",
   "metadata": {},
   "source": [
    "# Print data stats"
   ]
  },
  {
   "cell_type": "code",
   "execution_count": 61,
   "id": "c999d9e8",
   "metadata": {},
   "outputs": [
    {
     "name": "stdout",
     "output_type": "stream",
     "text": [
      "Genre:Romantico\n",
      "Number of songs:16516\n",
      "Average number of words per song:119\n",
      "Average number of UNIQUE words per song:60\n",
      "Unique words: 50%\n",
      "------\n",
      "\n",
      "Genre:Rap\n",
      "Number of songs:16820\n",
      "Average number of words per song:301\n",
      "Average number of UNIQUE words per song:172\n",
      "Unique words: 57%\n",
      "------\n",
      "\n",
      "Genre:Gospel/Religioso\n",
      "Number of songs:5888\n",
      "Average number of words per song:95\n",
      "Average number of UNIQUE words per song:52\n",
      "Unique words: 55%\n",
      "------\n",
      "\n",
      "Genre:Country\n",
      "Number of songs:9749\n",
      "Average number of words per song:108\n",
      "Average number of UNIQUE words per song:61\n",
      "Unique words: 57%\n",
      "------\n",
      "\n",
      "Genre:Heavy Metal\n",
      "Number of songs:19562\n",
      "Average number of words per song:107\n",
      "Average number of UNIQUE words per song:62\n",
      "Unique words: 57%\n",
      "------\n",
      "\n",
      "Genre:Hardcore\n",
      "Number of songs:5002\n",
      "Average number of words per song:98\n",
      "Average number of UNIQUE words per song:55\n",
      "Unique words: 56%\n",
      "------\n",
      "\n"
     ]
    }
   ],
   "source": [
    "for genre in genre_dict:\n",
    "    n_songs =  len(processed_lyrics[genre])\n",
    "    songs = processed_lyrics[genre]\n",
    "    total_words = 0\n",
    "    unique_words = 0\n",
    "    for song in songs:\n",
    "        unique_words+= len(np.unique(song))\n",
    "        total_words+=len(song)\n",
    "    avg_song_len = total_words/len(songs)\n",
    "    avg_uq_words = unique_words/len(songs)\n",
    "    print(f\"Genre:{genre}\")\n",
    "    print(f\"Number of songs:{n_songs}\")\n",
    "    print(f\"Average number of words per song:{round(avg_song_len)}\")\n",
    "    print(f\"Average number of UNIQUE words per song:{round(avg_uq_words)}\")\n",
    "    print(f\"Unique words: {round(100*(avg_uq_words/avg_song_len))}%\")\n",
    "    print(\"------\\n\")"
   ]
  },
  {
   "cell_type": "markdown",
   "id": "214be1d0",
   "metadata": {},
   "source": [
    "# Term frequencies and n-grams\n",
    "- term frequency calculated with freqdist\n",
    "- tf_per_genre = all terms of one genre ranked (independent of song)\n",
    "- tf_per_genre_per_song = contains tf for each song\n",
    "- TODO: get n-grams - sequences of words (eg. 4-grams \"We will rock you\"), could be nice to show how much repetion a song has"
   ]
  },
  {
   "cell_type": "code",
   "execution_count": 65,
   "id": "50d73790",
   "metadata": {},
   "outputs": [
    {
     "name": "stdout",
     "output_type": "stream",
     "text": [
      "Calculating tf for Romantico\n",
      "Calculating tf for Rap\n",
      "Calculating tf for Gospel/Religioso\n",
      "Calculating tf for Country\n",
      "Calculating tf for Heavy Metal\n",
      "Calculating tf for Hardcore\n"
     ]
    }
   ],
   "source": [
    "def tf(df,lyrics_tokenized,token_Freq):  \n",
    "    song_names = list(df.SName.values)\n",
    "    tf_per_song = {}\n",
    "    \n",
    "    for idx,val in enumerate(song_names):\n",
    "        sname = song_names[idx]\n",
    "        text = lyrics_tokenized[idx]\n",
    "        token_freq.update(text)\n",
    "        tf_per_song[sname]= nltk.FreqDist(text) \n",
    "    return tf_per_song\n",
    "\n",
    "tf_per_genre = {}\n",
    "tf_per_genre_per_song = {}\n",
    "\n",
    "tf_genre_dict = {}\n",
    "count = 0\n",
    "for genre in processed_lyrics:\n",
    "    token_freq = nltk.FreqDist()\n",
    "    pl = processed_lyrics[genre]\n",
    "    df = genre_dict[genre]\n",
    "    print(f\"Calculating tf for {genre}\")\n",
    "    tf_per_genre_per_song[genre] = tf(df,pl,token_freq)\n",
    "    tf_per_genre[genre]= token_freq"
   ]
  },
  {
   "cell_type": "code",
   "execution_count": 68,
   "id": "2f157104",
   "metadata": {},
   "outputs": [
    {
     "name": "stdout",
     "output_type": "stream",
     "text": [
      "Top 10 terms for Romantico:\n",
      "{'love': 37229, \"i'm\": 34492, 'know': 29692, 'like': 21826, 'oh': 21669, 'go': 16494, 'time': 16288, 'baby': 16112, 'one': 15316, 'never': 15287}\n",
      "----------------------\n",
      "Top 10 terms for Rap:\n",
      "{\"i'm\": 94628, 'like': 78220, 'nigga': 61890, 'get': 60204, 'got': 56577, 'know': 50984, 'yeah': 34760, \"ain't\": 34463, 'go': 30548, 'shit': 30544}\n",
      "----------------------\n",
      "Top 10 terms for Gospel/Religioso:\n",
      "{'love': 8731, \"i'm\": 6829, 'know': 6583, '’': 6058, 'oh': 4756, 'like': 4595, 'life': 4551, 'god': 4490, 'lord': 4427, 'come': 4384}\n",
      "----------------------\n",
      "Top 10 terms for Country:\n",
      "{'love': 14658, \"i'm\": 13602, 'lyric': 12631, 'bill': 12024, 'monroe': 11760, 'know': 10524, 'like': 9234, 'time': 7952, 'got': 7403, 'go': 7226}\n",
      "----------------------\n",
      "Top 10 terms for Heavy Metal:\n",
      "{\"i'm\": 24955, 'time': 16742, 'know': 16377, 'one': 15059, 'see': 14115, '...': 14100, 'never': 13758, 'life': 13735, 'like': 13562, 'love': 12082}\n",
      "----------------------\n",
      "Top 10 terms for Hardcore:\n",
      "{\"i'm\": 8267, 'know': 5191, 'like': 4375, 'never': 4266, 'time': 4028, 'go': 3979, 'one': 3765, 'get': 3763, 'see': 3381, \"can't\": 3312}\n",
      "----------------------\n"
     ]
    }
   ],
   "source": [
    "for genre in tf_per_genre:\n",
    "    freq = tf_per_genre[genre]\n",
    "    n = 10\n",
    "    print(f\"Top {n} terms for {genre}:\")\n",
    "    print(dict(freq.most_common(10)))\n",
    "    print(\"----------------------\")"
   ]
  },
  {
   "cell_type": "markdown",
   "id": "279e8777",
   "metadata": {},
   "source": [
    "# Word Cloud\n",
    "- TODO empty plots, run this again with savefig before show (?)"
   ]
  },
  {
   "cell_type": "code",
   "execution_count": 1,
   "id": "d34c84b0",
   "metadata": {},
   "outputs": [
    {
     "ename": "NameError",
     "evalue": "name 'tf_per_genre' is not defined",
     "output_type": "error",
     "traceback": [
      "\u001b[1;31m---------------------------------------------------------------------------\u001b[0m",
      "\u001b[1;31mNameError\u001b[0m                                 Traceback (most recent call last)",
      "\u001b[1;32m~\\AppData\\Local\\Temp/ipykernel_11492/3851310678.py\u001b[0m in \u001b[0;36m<module>\u001b[1;34m\u001b[0m\n\u001b[0;32m      2\u001b[0m \u001b[1;32mimport\u001b[0m \u001b[0mmatplotlib\u001b[0m\u001b[1;33m.\u001b[0m\u001b[0mpyplot\u001b[0m \u001b[1;32mas\u001b[0m \u001b[0mplt\u001b[0m\u001b[1;33m\u001b[0m\u001b[1;33m\u001b[0m\u001b[0m\n\u001b[0;32m      3\u001b[0m \u001b[1;33m\u001b[0m\u001b[0m\n\u001b[1;32m----> 4\u001b[1;33m \u001b[1;32mfor\u001b[0m \u001b[0mgenre\u001b[0m \u001b[1;32min\u001b[0m \u001b[0mtf_per_genre\u001b[0m\u001b[1;33m:\u001b[0m\u001b[1;33m\u001b[0m\u001b[1;33m\u001b[0m\u001b[0m\n\u001b[0m\u001b[0;32m      5\u001b[0m     \u001b[0mfreq\u001b[0m \u001b[1;33m=\u001b[0m \u001b[0mtf_per_genre\u001b[0m\u001b[1;33m[\u001b[0m\u001b[0mgenre\u001b[0m\u001b[1;33m]\u001b[0m\u001b[1;33m\u001b[0m\u001b[1;33m\u001b[0m\u001b[0m\n\u001b[0;32m      6\u001b[0m     \u001b[0mfreq_dict\u001b[0m \u001b[1;33m=\u001b[0m \u001b[0mdict\u001b[0m\u001b[1;33m(\u001b[0m\u001b[0mfreq\u001b[0m\u001b[1;33m.\u001b[0m\u001b[0mmost_common\u001b[0m\u001b[1;33m(\u001b[0m\u001b[1;36m75\u001b[0m\u001b[1;33m)\u001b[0m\u001b[1;33m)\u001b[0m\u001b[1;33m\u001b[0m\u001b[1;33m\u001b[0m\u001b[0m\n",
      "\u001b[1;31mNameError\u001b[0m: name 'tf_per_genre' is not defined"
     ]
    }
   ],
   "source": [
    "\n",
    "from wordcloud import WordCloud\n",
    "import matplotlib.pyplot as plt\n",
    "\n",
    "for genre in tf_per_genre:\n",
    "    freq = tf_per_genre[genre]\n",
    "    freq_dict = dict(freq.most_common(75))\n",
    "    wordcloud = WordCloud().generate_from_frequencies(freq_dict)\n",
    "    plt.imshow(wordcloud, interpolation=\"bilinear\")    \n",
    "    fname = genre\n",
    "    if \"/\" in fname:\n",
    "        fname = fname.replace(\"/\",\"_\")\n",
    "    plt.savefig(f\"plots/{fname}_wordcloud.png\")\n",
    "    plt.show()"
   ]
  },
  {
   "cell_type": "markdown",
   "id": "494e7a5d",
   "metadata": {},
   "source": [
    "# Sentiment of genres\n",
    "- Basic implementation of sentiment analysis\n",
    "- Sentences need to be split because else they will be too long for the model\n",
    "- Splitting can be improved, preprocessing steps applied etc.\n",
    "- For now only down on small amounts of data (because the model is really slow), should be plotted and compares"
   ]
  },
  {
   "cell_type": "code",
   "execution_count": 135,
   "id": "fc8d1a6f",
   "metadata": {},
   "outputs": [],
   "source": [
    "\n",
    "#!pip install -q transformers\n",
    "from transformers import pipeline\n",
    "\n",
    "model = pipeline(\"sentiment-analysis\",model=\"siebert/sentiment-roberta-large-english\")\n"
   ]
  },
  {
   "cell_type": "code",
   "execution_count": 149,
   "id": "bd2c249c",
   "metadata": {},
   "outputs": [
    {
     "name": "stdout",
     "output_type": "stream",
     "text": [
      "getting sentiment for genre:Romantico\n",
      "getting sentiment for genre:Rap\n",
      "getting sentiment for genre:Gospel/Religioso\n",
      "getting sentiment for genre:Country\n",
      "getting sentiment for genre:Heavy Metal\n",
      "getting sentiment for genre:Hardcore\n"
     ]
    }
   ],
   "source": [
    "def get_sentiment(genre,n_songs=20):\n",
    "    sentiment_scores = {\n",
    "    \"NEGATIVE\":{\"count\":0,\"score\":0},\n",
    "    #\"NEU\":{\"count\":0,\"score\":0},\n",
    "    \"POSITIVE\":{\"count\":0,\"score\":0}\n",
    "    }\n",
    "    nr_sentences = 0\n",
    "    songs = genre_dict[genre].Lyric.values[0:n_songs]\n",
    "    for song in songs:\n",
    "        sentences = song.split(\"\\n\")\n",
    "        #sentences = song\n",
    "        nr_sentences+=len(sentences)\n",
    "        sent = model(sentences)    \n",
    "        for s in sent:\n",
    "            label = s[\"label\"]\n",
    "            score =s[\"score\"]\n",
    "            sentiment_scores[label][\"count\"]+=1\n",
    "            sentiment_scores[label][\"score\"]+=score\n",
    "    for label in sentiment_scores:\n",
    "        if sentiment_scores[label][\"count\"]!=0:\n",
    "            sentiment_scores[label][\"score\"]/=sentiment_scores[label][\"count\"]\n",
    "            sentiment_scores[label][\"count\"]/=nr_sentences\n",
    "    return sentiment_scores\n",
    "\n",
    "sentiment_dict = {}\n",
    "for genre in genre_dict:\n",
    "    print(f\"getting sentiment for genre:{genre}\")\n",
    "    sentiment_dict[genre]= get_sentiment(genre,20)       "
   ]
  },
  {
   "cell_type": "markdown",
   "id": "3d9341fb",
   "metadata": {},
   "source": [
    "### plotting"
   ]
  },
  {
   "cell_type": "code",
   "execution_count": 166,
   "id": "ff6b6517",
   "metadata": {},
   "outputs": [],
   "source": [
    "vals= []\n",
    "labels_genre = []\n",
    "pos = []\n",
    "neg = []\n",
    "for genre in sentiment_dict:\n",
    "    senti = sentiment_dict[genre]\n",
    "    labels_genre.append(genre)\n",
    "    labels_senti= [\"POSITIVE\",\"NEGATIVE\"]\n",
    "    vals.append([senti[\"POSITIVE\"][\"count\"],senti[\"NEGATIVE\"][\"count\"]])\n",
    "    pos.append(senti[\"POSITIVE\"][\"count\"])\n",
    "    neg.append(senti[\"NEGATIVE\"][\"count\"])"
   ]
  },
  {
   "cell_type": "code",
   "execution_count": 173,
   "id": "9bca848e",
   "metadata": {},
   "outputs": [
    {
     "data": {
      "image/png": "[encoded data removed]",
      "text/plain": [
       "<Figure size 1080x360 with 1 Axes>"
      ]
     },
     "metadata": {
      "needs_background": "light"
     },
     "output_type": "display_data"
    },
    {
     "data": {
      "text/plain": [
       "<Figure size 432x288 with 0 Axes>"
      ]
     },
     "metadata": {},
     "output_type": "display_data"
    }
   ],
   "source": [
    "# libraries\n",
    "import numpy as np\n",
    "import matplotlib.pyplot as plt\n",
    " \n",
    "# set width of bars\n",
    "barWidth = 0.25\n",
    " \n",
    "# set heights of bars\n",
    "\n",
    "# Set position of bar on X axis\n",
    "r1 = np.arange(len(pos))\n",
    "r2 = [x + barWidth for x in r1]\n",
    "\n",
    "# Make the plot\n",
    "plt.figure(figsize=(15, 5))\n",
    "plt.bar(r1, pos, color='#30C23D', width=barWidth, edgecolor='white', label='POSITIVE')\n",
    "plt.bar(r2, neg, color='#3E4676', width=barWidth, edgecolor='white', label='NEGATIVE')\n",
    "\n",
    "# Add xticks on the middle of the group bars\n",
    "plt.xlabel('Genre', fontweight='bold')\n",
    "plt.xticks([r + barWidth for r in range(len(bars1))], labels_genre)\n",
    " \n",
    "# Create legend & Show graphic\n",
    "plt.legend()\n",
    "plt.show()\n",
    "plt.savefig(\"plots/sentiment.png\")"
   ]
  },
  {
   "cell_type": "code",
   "execution_count": null,
   "id": "3ace9c0d",
   "metadata": {},
   "outputs": [],
   "source": [
    "sentiment_dict[\"Romantico\"]"
   ]
  },
  {
   "cell_type": "code",
   "execution_count": 93,
   "id": "b643a153",
   "metadata": {},
   "outputs": [
    {
     "data": {
      "text/plain": [
       "\"I feel so unsure\\nAs I take your hand and lead you to the dance floor\\nAs the music dies, something in your eyes\\nCalls to mind a silver screen\\nAnd all those sad goodbyes\\n\\nI'm never gonna dance again\\nGuilty feet have got no rhythm\\nThough it's easy to pretend\\nI know you're not a fool\\n\\nShould've known better than to cheat a friend\\nAnd waste the chance that I've been given\\nSo I'm never gonna dance again\\nThe way I danced with you\\n\\nTime can never mend\\nThe careless whispers of a good friend\\nTo the heart and mind\\nIgnorance is kind\\nThere's no comfort in the truth\\nPain is all you'll find\\n\\nI'm never gonna dance again\\nGuilty feet have got no rhythm\\nThough it's easy to pretend\\nI know you're not a fool\\n\\nShould've known better than to cheat a friend\\nAnd waste this chance that I've been given\\nSo I'm never gonna dance again\\nThe way I danced with you\\n\\nNever without your love\\n\\nTonight the music seems so loud\\nI wish that we could lose this crowd\\nMaybe it's better this way\\nWe'd hurt each other with the things we'd want to say\\n\\nWe could have been so good together\\nWe could have lived this dance forever\\nBut now who's gonna dance with me?\\nPlease stay\\n\\nAnd I'm never gonna dance again\\nGuilty feet have got no rhythm\\nThough it's easy to pretend\\nI know you're not a fool\\n\\nShould've known better than to cheat a friend\\nAnd waste the chance that I've been given\\nSo I'm never gonna dance again\\nThe way I danced with you\\n\\n(Now that you're gone) Now that you're gone\\n(Now that you're gone) What I did's so wrong, so wrong\\nThat you had to leave me alone?\""
      ]
     },
     "execution_count": 93,
     "metadata": {},
     "output_type": "execute_result"
    }
   ],
   "source": [
    "genre_dict[\"Romantico\"].Lyric.values[0]"
   ]
  },
  {
   "cell_type": "markdown",
   "id": "c49d6d28",
   "metadata": {},
   "source": [
    "# Rhyme"
   ]
  },
  {
   "cell_type": "markdown",
   "id": "e4152f0c",
   "metadata": {},
   "source": [
    "# Clustering\n",
    "- TODO: Cluster songs too see overlap (eg are hardcore and rock closer together than hardcore and Romantico etc.)\n",
    "- probably needs more preprocessing too (either embeddings, onehot encoding of words, stop word removal etc.)"
   ]
  },
  {
   "cell_type": "code",
   "execution_count": 183,
   "id": "23f53437",
   "metadata": {},
   "outputs": [
    {
     "data": {
      "text/html": [
       "<style>#sk-container-id-2 {color: black;background-color: white;}#sk-container-id-2 pre{padding: 0;}#sk-container-id-2 div.sk-toggleable {background-color: white;}#sk-container-id-2 label.sk-toggleable__label {cursor: pointer;display: block;width: 100%;margin-bottom: 0;padding: 0.3em;box-sizing: border-box;text-align: center;}#sk-container-id-2 label.sk-toggleable__label-arrow:before {content: \"▸\";float: left;margin-right: 0.25em;color: #696969;}#sk-container-id-2 label.sk-toggleable__label-arrow:hover:before {color: black;}#sk-container-id-2 div.sk-estimator:hover label.sk-toggleable__label-arrow:before {color: black;}#sk-container-id-2 div.sk-toggleable__content {max-height: 0;max-width: 0;overflow: hidden;text-align: left;background-color: #f0f8ff;}#sk-container-id-2 div.sk-toggleable__content pre {margin: 0.2em;color: black;border-radius: 0.25em;background-color: #f0f8ff;}#sk-container-id-2 input.sk-toggleable__control:checked~div.sk-toggleable__content {max-height: 200px;max-width: 100%;overflow: auto;}#sk-container-id-2 input.sk-toggleable__control:checked~label.sk-toggleable__label-arrow:before {content: \"▾\";}#sk-container-id-2 div.sk-estimator input.sk-toggleable__control:checked~label.sk-toggleable__label {background-color: #d4ebff;}#sk-container-id-2 div.sk-label input.sk-toggleable__control:checked~label.sk-toggleable__label {background-color: #d4ebff;}#sk-container-id-2 input.sk-hidden--visually {border: 0;clip: rect(1px 1px 1px 1px);clip: rect(1px, 1px, 1px, 1px);height: 1px;margin: -1px;overflow: hidden;padding: 0;position: absolute;width: 1px;}#sk-container-id-2 div.sk-estimator {font-family: monospace;background-color: #f0f8ff;border: 1px dotted black;border-radius: 0.25em;box-sizing: border-box;margin-bottom: 0.5em;}#sk-container-id-2 div.sk-estimator:hover {background-color: #d4ebff;}#sk-container-id-2 div.sk-parallel-item::after {content: \"\";width: 100%;border-bottom: 1px solid gray;flex-grow: 1;}#sk-container-id-2 div.sk-label:hover label.sk-toggleable__label {background-color: #d4ebff;}#sk-container-id-2 div.sk-serial::before {content: \"\";position: absolute;border-left: 1px solid gray;box-sizing: border-box;top: 0;bottom: 0;left: 50%;z-index: 0;}#sk-container-id-2 div.sk-serial {display: flex;flex-direction: column;align-items: center;background-color: white;padding-right: 0.2em;padding-left: 0.2em;position: relative;}#sk-container-id-2 div.sk-item {position: relative;z-index: 1;}#sk-container-id-2 div.sk-parallel {display: flex;align-items: stretch;justify-content: center;background-color: white;position: relative;}#sk-container-id-2 div.sk-item::before, #sk-container-id-2 div.sk-parallel-item::before {content: \"\";position: absolute;border-left: 1px solid gray;box-sizing: border-box;top: 0;bottom: 0;left: 50%;z-index: -1;}#sk-container-id-2 div.sk-parallel-item {display: flex;flex-direction: column;z-index: 1;position: relative;background-color: white;}#sk-container-id-2 div.sk-parallel-item:first-child::after {align-self: flex-end;width: 50%;}#sk-container-id-2 div.sk-parallel-item:last-child::after {align-self: flex-start;width: 50%;}#sk-container-id-2 div.sk-parallel-item:only-child::after {width: 0;}#sk-container-id-2 div.sk-dashed-wrapped {border: 1px dashed gray;margin: 0 0.4em 0.5em 0.4em;box-sizing: border-box;padding-bottom: 0.4em;background-color: white;}#sk-container-id-2 div.sk-label label {font-family: monospace;font-weight: bold;display: inline-block;line-height: 1.2em;}#sk-container-id-2 div.sk-label-container {text-align: center;}#sk-container-id-2 div.sk-container {/* jupyter's `normalize.less` sets `[hidden] { display: none; }` but bootstrap.min.css set `[hidden] { display: none !important; }` so we also need the `!important` here to be able to override the default hidden behavior on the sphinx rendered scikit-learn.org. See: https://github.com/scikit-learn/scikit-learn/issues/21755 */display: inline-block !important;position: relative;}#sk-container-id-2 div.sk-text-repr-fallback {display: none;}</style><div id=\"sk-container-id-2\" class=\"sk-top-container\"><div class=\"sk-text-repr-fallback\"><pre>KMeans(n_clusters=5)</pre><b>In a Jupyter environment, please rerun this cell to show the HTML representation or trust the notebook. <br />On GitHub, the HTML representation is unable to render, please try loading this page with nbviewer.org.</b></div><div class=\"sk-container\" hidden><div class=\"sk-item\"><div class=\"sk-estimator sk-toggleable\"><input class=\"sk-toggleable__control sk-hidden--visually\" id=\"sk-estimator-id-2\" type=\"checkbox\" checked><label for=\"sk-estimator-id-2\" class=\"sk-toggleable__label sk-toggleable__label-arrow\">KMeans</label><div class=\"sk-toggleable__content\"><pre>KMeans(n_clusters=5)</pre></div></div></div></div></div>"
      ],
      "text/plain": [
       "KMeans(n_clusters=5)"
      ]
     },
     "execution_count": 183,
     "metadata": {},
     "output_type": "execute_result"
    }
   ],
   "source": [
    "from sklearn.cluster import KMeans\n",
    "from sklearn.feature_extraction.text import TfidfVectorizer\n",
    "for genre in processed_lyrics:\n",
    "    df = genre_dict[genre].head(20)[[\"genre\",\"Lyric\"]]\n",
    "    text = df.Lyric.values\n",
    "#text = genre_dict[\"Romantico\"].Lyric.values[:20]\n",
    "vec = TfidfVectorizer()\n",
    "vec.fit(text)\n",
    "features = vec.transform(text)\n",
    "clust = KMeans(init=\"k-means++\",n_clusters=5,n_init=10)\n",
    "clust.fit(features)"
   ]
  },
  {
   "cell_type": "code",
   "execution_count": 179,
   "id": "2ee145a3",
   "metadata": {},
   "outputs": [
    {
     "data": {
      "text/plain": [
       "array([1, 0, 1, 4, 1, 4, 2, 1, 1, 0, 0, 1, 3, 1, 0, 1, 1, 1, 1, 2])"
      ]
     },
     "execution_count": 179,
     "metadata": {},
     "output_type": "execute_result"
    }
   ],
   "source": [
    "clust.predict(features)"
   ]
  },
  {
   "cell_type": "code",
   "execution_count": null,
   "id": "0abf8e26",
   "metadata": {},
   "outputs": [],
   "source": []
  }
 ],
 "metadata": {
  "kernelspec": {
   "display_name": "Python 3 (ipykernel)",
   "language": "python",
   "name": "python3"
  },
  "language_info": {
   "codemirror_mode": {
    "name": "ipython",
    "version": 3
   },
   "file_extension": ".py",
   "mimetype": "text/x-python",
   "name": "python",
   "nbconvert_exporter": "python",
   "pygments_lexer": "ipython3",
   "version": "3.9.7"
  },
  "vscode": {
   "interpreter": {
    "hash": "bdabd8b3adf186400c7630d86f602eb123b8c7593b1c50ad14c52424ae0f9e56"
   }
  }
 },
 "nbformat": 4,
 "nbformat_minor": 5
}
